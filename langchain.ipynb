{
 "cells": [
  {
   "cell_type": "code",
   "execution_count": null,
   "id": "740e0137",
   "metadata": {},
   "outputs": [
    {
     "name": "stdout",
     "output_type": "stream",
     "text": [
      "Note: you may need to restart the kernel to use updated packages.\n"
     ]
    }
   ],
   "source": [
    "#pip install -qU \"langchain[google-genai]\""
   ]
  },
  {
   "cell_type": "code",
   "execution_count": null,
   "id": "d138bdc1",
   "metadata": {},
   "outputs": [
    {
     "name": "stdout",
     "output_type": "stream",
     "text": [
      "Paris\n"
     ]
    }
   ],
   "source": [
    "import os\n",
    "\n",
    "# Set the API key (Note: avoid hardcoding sensitive keys in production)\n",
    "os.environ[\"GOOGLE_API_KEY\"] = \"enter your api key\"\n",
    "\n",
    "# Import the correct class for using Gemini models via LangChain\n",
    "from langchain_google_genai import ChatGoogleGenerativeAI\n",
    "\n",
    "# Initialize the model (use \"gemini-1.5-flash\" or \"gemini-1.5-pro\" – not \"2.0-flash\" as it doesn't exist)\n",
    "model = ChatGoogleGenerativeAI(model=\"gemini-1.5-flash\")\n",
    "\n",
    "# Test the model\n",
    "response = model.invoke(\"What's the capital of France?\")\n",
    "print(response.content)\n"
   ]
  },
  {
   "cell_type": "code",
   "execution_count": 8,
   "id": "99e0c835",
   "metadata": {},
   "outputs": [
    {
     "data": {
      "text/plain": [
       "AIMessage(content=\"Generative AI and Agentic AI are two related but distinct concepts in the field of artificial intelligence.  While both represent significant advancements, they differ in their capabilities and goals.\\n\\n**Generative AI:**\\n\\n* **Focus:** Creating new content. This includes text, images, audio, video, code, and more.  It learns patterns from existing data and uses this knowledge to generate similar but novel outputs.\\n* **Mechanism:** Typically relies on deep learning models, particularly generative adversarial networks (GANs) and transformers. These models learn statistical relationships within the training data and use these relationships to generate new data points that resemble the training data in style and structure.\\n* **Examples:**\\n    * **Text generation:**  GPT-3, LaMDA, Bard – generating articles, poems, code, scripts, etc.\\n    * **Image generation:** DALL-E 2, Midjourney, Stable Diffusion – creating images from text prompts.\\n    * **Audio generation:** Jukebox, Amper Music – composing music.\\n    * **Video generation:** RunwayML, Synthesia – creating videos from text or images.\\n* **Limitations:** Can sometimes produce outputs that are nonsensical, biased, or factually inaccurate.  It lacks genuine understanding of the content it generates; it's merely mimicking patterns.  It also requires large amounts of training data.\\n\\n**Agentic AI:**\\n\\n* **Focus:** Acting autonomously in the world. This involves making decisions, planning actions, and interacting with the environment to achieve goals.  It goes beyond simply generating content; it takes action based on that content or other information.\\n* **Mechanism:** Often involves combining several AI techniques, including planning algorithms, reinforcement learning, and perception systems.  It needs to be able to perceive its environment, understand its goals, plan actions to achieve those goals, and execute those actions.\\n* **Examples:**\\n    * **Robotics:** Robots that navigate complex environments, perform tasks autonomously, and adapt to changing conditions.\\n    * **Game playing AI:** Agents that play games like chess or Go at a superhuman level.\\n    * **Autonomous vehicles:** Self-driving cars that navigate roads and make driving decisions.\\n    * **Personalized assistants:**  AI assistants that proactively anticipate user needs and take actions on their behalf.\\n* **Limitations:**  Requires robust perception, planning, and execution capabilities.  Safety and ethical considerations are paramount, as agentic AI systems can have significant real-world impacts.  Dealing with unforeseen circumstances and ensuring reliable behavior in complex environments remains a challenge.\\n\\n\\n**Relationship between Generative AI and Agentic AI:**\\n\\nGenerative AI can be a powerful component of agentic AI.  For example, an autonomous robot might use generative AI to create plans, generate hypotheses about its environment, or communicate with humans.  However, generative AI alone is not sufficient for agentic AI; the latter requires additional capabilities for perception, action, and planning.\\n\\nIn short: Generative AI *creates*, while Agentic AI *acts*.  They are complementary technologies that, when combined, can lead to even more powerful and sophisticated AI systems.  However, both present unique challenges and ethical considerations that must be carefully addressed as they continue to develop.\", additional_kwargs={}, response_metadata={'prompt_feedback': {'block_reason': 0, 'safety_ratings': []}, 'finish_reason': 'STOP', 'model_name': 'gemini-1.5-flash', 'safety_ratings': []}, id='run--f607c08c-1700-44f7-afcb-da3de2c5ff1a-0', usage_metadata={'input_tokens': 8, 'output_tokens': 665, 'total_tokens': 673, 'input_token_details': {'cache_read': 0}})"
      ]
     },
     "execution_count": 8,
     "metadata": {},
     "output_type": "execute_result"
    }
   ],
   "source": [
    "model.invoke(\"About Generative AI and Agentic AI\")"
   ]
  },
  {
   "cell_type": "code",
   "execution_count": null,
   "id": "24d5b055",
   "metadata": {},
   "outputs": [],
   "source": []
  }
 ],
 "metadata": {
  "kernelspec": {
   "display_name": "Python 3",
   "language": "python",
   "name": "python3"
  },
  "language_info": {
   "codemirror_mode": {
    "name": "ipython",
    "version": 3
   },
   "file_extension": ".py",
   "mimetype": "text/x-python",
   "name": "python",
   "nbconvert_exporter": "python",
   "pygments_lexer": "ipython3",
   "version": "3.13.3"
  }
 },
 "nbformat": 4,
 "nbformat_minor": 5
}
