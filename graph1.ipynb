{
 "cells": [
  {
   "cell_type": "code",
   "execution_count": null,
   "id": "fdcd4dd4",
   "metadata": {},
   "outputs": [],
   "source": [
    "#pip install langchain langgraph langsmith langchain_groq langchain_community"
   ]
  },
  {
   "cell_type": "code",
   "execution_count": null,
   "id": "98576b14",
   "metadata": {},
   "outputs": [],
   "source": [
    "groq_api_key = \"enter api \""
   ]
  },
  {
   "cell_type": "code",
   "execution_count": 4,
   "metadata": {},
   "outputs": [],
   "source": [
    "from langchain_groq import ChatGroq"
   ]
  },
  {
   "cell_type": "code",
   "execution_count": 5,
   "metadata": {},
   "outputs": [],
   "source": [
    "llm = ChatGroq(groq_api_key = groq_api_key, model_name = \"Gemma2-9b-it\")"
   ]
  },
  {
   "cell_type": "code",
   "execution_count": 9,
   "metadata": {},
   "outputs": [],
   "source": [
    "from typing import Annotated\n",
    "from typing_extensions import TypedDict\n",
    "from langgraph.graph.message import add_messages\n",
    "from langgraph.graph import StateGraph,START,END "
   ]
  },
  {
   "cell_type": "code",
   "execution_count": 10,
   "metadata": {},
   "outputs": [],
   "source": [
    "class State(TypedDict):\n",
    "    messages:Annotated[list,add_messages] \n",
    "    \n",
    "graph_builder=StateGraph(State)"
   ]
  },
  {
   "cell_type": "code",
   "execution_count": 11,
   "id": "bbbf562e",
   "metadata": {},
   "outputs": [
    {
     "data": {
      "text/plain": [
       "<langgraph.graph.state.StateGraph at 0x275f9bd4830>"
      ]
     },
     "execution_count": 11,
     "metadata": {},
     "output_type": "execute_result"
    }
   ],
   "source": [
    "graph_builder"
   ]
  },
  {
   "cell_type": "code",
   "execution_count": 12,
   "id": "b6ff291c",
   "metadata": {},
   "outputs": [],
   "source": [
    "def chatbot(state:State):\n",
    "    return{\"messages\":llm.invoke(state['messages'])}"
   ]
  },
  {
   "cell_type": "code",
   "execution_count": 13,
   "id": "b784d5b0",
   "metadata": {},
   "outputs": [
    {
     "data": {
      "text/plain": [
       "<langgraph.graph.state.StateGraph at 0x275f9bd4830>"
      ]
     },
     "execution_count": 13,
     "metadata": {},
     "output_type": "execute_result"
    }
   ],
   "source": [
    "graph_builder.add_node('chatbot',chatbot)"
   ]
  },
  {
   "cell_type": "code",
   "execution_count": 14,
   "id": "f61a9bf4",
   "metadata": {},
   "outputs": [
    {
     "data": {
      "text/plain": [
       "<langgraph.graph.state.StateGraph at 0x275f9bd4830>"
      ]
     },
     "execution_count": 14,
     "metadata": {},
     "output_type": "execute_result"
    }
   ],
   "source": [
    "graph_builder"
   ]
  },
  {
   "cell_type": "code",
   "execution_count": 15,
   "id": "b13b34d0",
   "metadata": {},
   "outputs": [
    {
     "data": {
      "text/plain": [
       "<langgraph.graph.state.StateGraph at 0x275f9bd4830>"
      ]
     },
     "execution_count": 15,
     "metadata": {},
     "output_type": "execute_result"
    }
   ],
   "source": [
    "graph_builder.add_edge(START, 'chatbot')\n",
    "graph_builder.add_edge('chatbot', END)"
   ]
  },
  {
   "cell_type": "code",
   "execution_count": 16,
   "id": "5b10b9ee",
   "metadata": {},
   "outputs": [
    {
     "data": {
      "image/png": "[encoded data removed]",
      "text/plain": [
       "<langgraph.graph.state.CompiledStateGraph object at 0x00000275F9BD56A0>"
      ]
     },
     "execution_count": 16,
     "metadata": {},
     "output_type": "execute_result"
    }
   ],
   "source": [
    "graph_builder.compile()"
   ]
  },
  {
   "cell_type": "code",
   "execution_count": 17,
   "id": "c9e07a8f",
   "metadata": {},
   "outputs": [],
   "source": [
    "graph = graph_builder.compile()"
   ]
  },
  {
   "cell_type": "code",
   "execution_count": 20,
   "id": "908979df",
   "metadata": {},
   "outputs": [
    {
     "name": "stdout",
     "output_type": "stream",
     "text": [
      "dict_values([{'messages': AIMessage(content=\"Let's break down the differences between MCP and A2A agents in the context of artificial intelligence and reinforcement learning.\\n\\n**MCP (Model-Conditional Policy)**\\n\\n* **Core Idea:** MCP agents learn by combining a separate value function (estimating the expected return) with a policy network. The policy network's decisions are directly influenced by the predicted value from the value function.\\n* **How it Works:**\\n    1. **Value Function:**  The value function estimates the long-term reward an agent can expect to receive from a given state. It's often trained using techniques like Q-learning or SARSA.\\n    2. **Policy Network:** This network takes a state as input and outputs an action, but crucially, it incorporates the value function's prediction.  Actions with higher expected values are more likely to be chosen.\\n\\n* **Advantages:**\\n    * **Improved Exploration:** By considering the value function, MCP agents can balance exploration (trying new actions) with exploitation (choosing actions with high predicted value). This can lead to more efficient learning.\\n    * **Theoretical Guarantees:** Some MCP algorithms have stronger theoretical guarantees for convergence and performance compared to simpler policy gradient methods.\\n\\n* **Disadvantages:**\\n    * **Complexity:** Implementing MCP agents can be more complex than direct policy gradient methods.\\n\\n**A2A (Actor-Critic)**\\n\\n* **Core Idea:** A2A is a family of algorithms that directly combines an actor (policy network) and a critic (value function) within a single training loop.\\n* **How it Works:**\\n    1. **Actor:**  The actor network selects actions based on its current policy.\\n    2. **Critic:** The critic network estimates the value of the state or the expected return from taking an action in a state.\\n    3. **Training:** Both the actor and critic networks are updated simultaneously based on the difference between the predicted value and the actual reward received. The actor learns to improve its policy to maximize the critic's value estimates.\\n\\n* **Advantages:**\\n    * **Directly Coupled:** The actor and critic are closely intertwined, allowing for more efficient learning and better exploration-exploitation balance.\\n    * **Widely Used:** A2A is a popular and well-studied family of algorithms with many successful implementations.\\n    * **Flexibility:**  There are various A2A architectures, making it adaptable to different tasks and environments.\\n\\n* **Disadvantages:**\\n    * **Hyperparameter Tuning:** A2A algorithms often require careful hyperparameter tuning to achieve optimal performance.\\n\\n**Key Differences:**\\n\\n* **Value Function Integration:** MCP agents explicitly use a separate value function to guide policy decisions, while A2A agents integrate the value function directly into the policy network's training process.\\n* **Training Loop:** MCP agents typically have a more distinct training loop for the value function and policy network, whereas A2A agents update both simultaneously.\\n\\n\\nLet me know if you'd like more details about specific MCP or A2A algorithms, or if you have any other AI-related questions!\\n\", additional_kwargs={}, response_metadata={'token_usage': {'completion_tokens': 637, 'prompt_tokens': 17, 'total_tokens': 654, 'completion_time': 1.158181818, 'prompt_time': 0.002166596, 'queue_time': 0.274756583, 'total_time': 1.160348414}, 'model_name': 'Gemma2-9b-it', 'system_fingerprint': 'fp_10c08bf97d', 'finish_reason': 'stop', 'logprobs': None}, id='run--0080746a-f9aa-4503-bcc8-e0da9aba1d45-0', usage_metadata={'input_tokens': 17, 'output_tokens': 637, 'total_tokens': 654})}])\n",
      "content=\"Let's break down the differences between MCP and A2A agents in the context of artificial intelligence and reinforcement learning.\\n\\n**MCP (Model-Conditional Policy)**\\n\\n* **Core Idea:** MCP agents learn by combining a separate value function (estimating the expected return) with a policy network. The policy network's decisions are directly influenced by the predicted value from the value function.\\n* **How it Works:**\\n    1. **Value Function:**  The value function estimates the long-term reward an agent can expect to receive from a given state. It's often trained using techniques like Q-learning or SARSA.\\n    2. **Policy Network:** This network takes a state as input and outputs an action, but crucially, it incorporates the value function's prediction.  Actions with higher expected values are more likely to be chosen.\\n\\n* **Advantages:**\\n    * **Improved Exploration:** By considering the value function, MCP agents can balance exploration (trying new actions) with exploitation (choosing actions with high predicted value). This can lead to more efficient learning.\\n    * **Theoretical Guarantees:** Some MCP algorithms have stronger theoretical guarantees for convergence and performance compared to simpler policy gradient methods.\\n\\n* **Disadvantages:**\\n    * **Complexity:** Implementing MCP agents can be more complex than direct policy gradient methods.\\n\\n**A2A (Actor-Critic)**\\n\\n* **Core Idea:** A2A is a family of algorithms that directly combines an actor (policy network) and a critic (value function) within a single training loop.\\n* **How it Works:**\\n    1. **Actor:**  The actor network selects actions based on its current policy.\\n    2. **Critic:** The critic network estimates the value of the state or the expected return from taking an action in a state.\\n    3. **Training:** Both the actor and critic networks are updated simultaneously based on the difference between the predicted value and the actual reward received. The actor learns to improve its policy to maximize the critic's value estimates.\\n\\n* **Advantages:**\\n    * **Directly Coupled:** The actor and critic are closely intertwined, allowing for more efficient learning and better exploration-exploitation balance.\\n    * **Widely Used:** A2A is a popular and well-studied family of algorithms with many successful implementations.\\n    * **Flexibility:**  There are various A2A architectures, making it adaptable to different tasks and environments.\\n\\n* **Disadvantages:**\\n    * **Hyperparameter Tuning:** A2A algorithms often require careful hyperparameter tuning to achieve optimal performance.\\n\\n**Key Differences:**\\n\\n* **Value Function Integration:** MCP agents explicitly use a separate value function to guide policy decisions, while A2A agents integrate the value function directly into the policy network's training process.\\n* **Training Loop:** MCP agents typically have a more distinct training loop for the value function and policy network, whereas A2A agents update both simultaneously.\\n\\n\\nLet me know if you'd like more details about specific MCP or A2A algorithms, or if you have any other AI-related questions!\\n\" additional_kwargs={} response_metadata={'token_usage': {'completion_tokens': 637, 'prompt_tokens': 17, 'total_tokens': 654, 'completion_time': 1.158181818, 'prompt_time': 0.002166596, 'queue_time': 0.274756583, 'total_time': 1.160348414}, 'model_name': 'Gemma2-9b-it', 'system_fingerprint': 'fp_10c08bf97d', 'finish_reason': 'stop', 'logprobs': None} id='run--0080746a-f9aa-4503-bcc8-e0da9aba1d45-0' usage_metadata={'input_tokens': 17, 'output_tokens': 637, 'total_tokens': 654}\n",
      "Assistant: Let's break down the differences between MCP and A2A agents in the context of artificial intelligence and reinforcement learning.\n",
      "\n",
      "**MCP (Model-Conditional Policy)**\n",
      "\n",
      "* **Core Idea:** MCP agents learn by combining a separate value function (estimating the expected return) with a policy network. The policy network's decisions are directly influenced by the predicted value from the value function.\n",
      "* **How it Works:**\n",
      "    1. **Value Function:**  The value function estimates the long-term reward an agent can expect to receive from a given state. It's often trained using techniques like Q-learning or SARSA.\n",
      "    2. **Policy Network:** This network takes a state as input and outputs an action, but crucially, it incorporates the value function's prediction.  Actions with higher expected values are more likely to be chosen.\n",
      "\n",
      "* **Advantages:**\n",
      "    * **Improved Exploration:** By considering the value function, MCP agents can balance exploration (trying new actions) with exploitation (choosing actions with high predicted value). This can lead to more efficient learning.\n",
      "    * **Theoretical Guarantees:** Some MCP algorithms have stronger theoretical guarantees for convergence and performance compared to simpler policy gradient methods.\n",
      "\n",
      "* **Disadvantages:**\n",
      "    * **Complexity:** Implementing MCP agents can be more complex than direct policy gradient methods.\n",
      "\n",
      "**A2A (Actor-Critic)**\n",
      "\n",
      "* **Core Idea:** A2A is a family of algorithms that directly combines an actor (policy network) and a critic (value function) within a single training loop.\n",
      "* **How it Works:**\n",
      "    1. **Actor:**  The actor network selects actions based on its current policy.\n",
      "    2. **Critic:** The critic network estimates the value of the state or the expected return from taking an action in a state.\n",
      "    3. **Training:** Both the actor and critic networks are updated simultaneously based on the difference between the predicted value and the actual reward received. The actor learns to improve its policy to maximize the critic's value estimates.\n",
      "\n",
      "* **Advantages:**\n",
      "    * **Directly Coupled:** The actor and critic are closely intertwined, allowing for more efficient learning and better exploration-exploitation balance.\n",
      "    * **Widely Used:** A2A is a popular and well-studied family of algorithms with many successful implementations.\n",
      "    * **Flexibility:**  There are various A2A architectures, making it adaptable to different tasks and environments.\n",
      "\n",
      "* **Disadvantages:**\n",
      "    * **Hyperparameter Tuning:** A2A algorithms often require careful hyperparameter tuning to achieve optimal performance.\n",
      "\n",
      "**Key Differences:**\n",
      "\n",
      "* **Value Function Integration:** MCP agents explicitly use a separate value function to guide policy decisions, while A2A agents integrate the value function directly into the policy network's training process.\n",
      "* **Training Loop:** MCP agents typically have a more distinct training loop for the value function and policy network, whereas A2A agents update both simultaneously.\n",
      "\n",
      "\n",
      "Let me know if you'd like more details about specific MCP or A2A algorithms, or if you have any other AI-related questions!\n",
      "\n",
      "Good Bye, thank you using LangGrpah Framework create by prakash senapati\n"
     ]
    }
   ],
   "source": [
    "while True:\n",
    "    user_input=input(\"user:\")\n",
    "    if user_input.lower() in ['quit','q']:\n",
    "        print('Good Bye, thank you using LangGrpah Framework create by prakash senapati')\n",
    "        break \n",
    "    for event in graph.stream({'messages':('user', user_input)}):\n",
    "        print(event.values())\n",
    "        for value in event.values():\n",
    "            print(value['messages'])\n",
    "            print('Assistant:',value['messages'].content)"
   ]
  },
  {
   "cell_type": "code",
   "execution_count": null,
   "id": "be5959ca",
   "metadata": {},
   "outputs": [],
   "source": []
  }
 ],
 "metadata": {
  "kernelspec": {
   "display_name": "Python 3",
   "language": "python",
   "name": "python3"
  },
  "language_info": {
   "codemirror_mode": {
    "name": "ipython",
    "version": 3
   },
   "file_extension": ".py",
   "mimetype": "text/x-python",
   "name": "python",
   "nbconvert_exporter": "python",
   "pygments_lexer": "ipython3",
   "version": "3.13.3"
  }
 },
 "nbformat": 4,
 "nbformat_minor": 5
}
